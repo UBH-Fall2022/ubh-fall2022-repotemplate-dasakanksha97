{
  "nbformat": 4,
  "nbformat_minor": 0,
  "metadata": {
    "colab": {
      "provenance": [],
      "collapsed_sections": []
    },
    "kernelspec": {
      "name": "python3",
      "display_name": "Python 3"
    },
    "language_info": {
      "name": "python"
    }
  },
  "cells": [
    {
      "cell_type": "code",
      "execution_count": 1,
      "metadata": {
        "id": "D-kN9kxkfoQr"
      },
      "outputs": [],
      "source": [
        "import cv2\n",
        "import numpy as np\n",
        "import os"
      ]
    },
    {
      "cell_type": "code",
      "source": [
        "from google.colab import drive\n",
        "import os\n",
        "from os import path\n",
        "drive.mount(\"/content/drive\")\n",
        "%cd \"/content/drive/My Drive/Hacking/Other\"\n",
        "!fusermount -u drive\n",
        "!google-drive-ocamlfuse drive\n",
        "!mkdir \"Other1\"\n"
      ],
      "metadata": {
        "id": "hQcFqs9ff7qt",
        "colab": {
          "base_uri": "https://localhost:8080/"
        },
        "outputId": "8c423f6b-ee7c-4c35-88ad-affb69ec6a6b"
      },
      "execution_count": 4,
      "outputs": [
        {
          "output_type": "stream",
          "name": "stdout",
          "text": [
            "Drive already mounted at /content/drive; to attempt to forcibly remount, call drive.mount(\"/content/drive\", force_remount=True).\n",
            "/content/drive/My Drive/Hacking/Other\n",
            "fusermount: failed to unmount /content/drive/My Drive/Hacking/Other/drive: No such file or directory\n",
            "/bin/bash: google-drive-ocamlfuse: command not found\n"
          ]
        }
      ]
    },
    {
      "cell_type": "code",
      "source": [
        "subdir ='.'\n",
        "for file1 in os.listdir(subdir):\n",
        "      f=os.path.join(subdir,file1)\n",
        "      ## If f is directory - Dont process it\n",
        "      if os.path.isdir(f):\n",
        "        continue\n",
        "      img = cv2.imread(f)\n",
        "      ## Converting to Grayscale\n",
        "      img_grey =  cv2.cvtColor(img, cv2.COLOR_BGR2GRAY)\n",
        "      ## Thresholding to get only the relavant objects\n",
        "      ret , img_th = cv2.threshold(img_grey,0, 255, cv2.THRESH_BINARY+cv2.THRESH_OTSU)\n",
        "      ## Using Connected Componets to distinguish the different objects in the image\n",
        "      analysis = cv2.connectedComponentsWithStats(img_th,8,cv2.CV_32S)\n",
        "      (labels, label_id, values, centroid) = analysis\n",
        "      min_centroid = 300\n",
        "      new_img = np.zeros(img.shape,dtype=\"uint8\")\n",
        "      ## Finding the object that is closest to center - Centroid of the CC should be closest to center of image\n",
        "      for i in range (1,labels):\n",
        "        distance=np.sqrt(((centroid[i][0]-150)**2)+((centroid[i][1]-150)**2))\n",
        "        if min_centroid > distance:\n",
        "            min_centroid=distance\n",
        "            actual_figure = i\n",
        "      w = values[actual_figure, cv2.CC_STAT_WIDTH]\n",
        "      h = values[actual_figure,cv2.CC_STAT_HEIGHT]\n",
        "      for i in range(0, img.shape[0]):\n",
        "        for j in range (0,img.shape[1]):\n",
        "          ## Extracting the object and adding it to a black background of 300X300\n",
        "            if (label_id[i][j]==actual_figure):\n",
        "                new_img[i][j]=img[i][j]\n",
        "      file_name = subdir + \"/Other1/\" + file1\n",
        "      ## Writing file into a new directory\n",
        "      cv2.imwrite(file_name,new_img)"
      ],
      "metadata": {
        "colab": {
          "base_uri": "https://localhost:8080/"
        },
        "id": "AAlcyZou3ZGN",
        "outputId": "22c76f68-46cc-43b1-e17f-3c00304cf3cc"
      },
      "execution_count": 5,
      "outputs": [
        {
          "output_type": "stream",
          "name": "stdout",
          "text": [
            "193\n"
          ]
        }
      ]
    }
  ]
}